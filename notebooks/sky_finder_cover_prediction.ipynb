{
 "cells": [
  {
   "cell_type": "code",
   "execution_count": 1,
   "id": "140dff1b",
   "metadata": {},
   "outputs": [],
   "source": [
    "%load_ext autoreload\n",
    "%autoreload 2"
   ]
  },
  {
   "cell_type": "code",
   "execution_count": null,
   "id": "bd460ca5",
   "metadata": {},
   "outputs": [
    {
     "name": "stderr",
     "output_type": "stream",
     "text": [
      "c:\\Users\\arnau\\work\\lipid_internship\\git\\.conda\\Lib\\site-packages\\tqdm\\auto.py:21: TqdmWarning: IProgress not found. Please update jupyter and ipywidgets. See https://ipywidgets.readthedocs.io/en/stable/user_install.html\n",
      "  from .autonotebook import tqdm as notebook_tqdm\n",
      "c:\\Users\\arnau\\work\\lipid_internship\\git\\.conda\\Lib\\site-packages\\albumentations\\__init__.py:28: UserWarning: A new version of Albumentations is available: '2.0.7' (you have '2.0.6'). Upgrade using: pip install -U albumentations. To disable automatic update checks, set the environment variable NO_ALBUMENTATIONS_UPDATE to 1.\n",
      "  check_for_updates()\n"
     ]
    }
   ],
   "source": [
    "import os\n",
    "import sys\n",
    "import torch\n",
    "import torch.nn as nn\n",
    "import matplotlib.pyplot as plt\n",
    "import torchvision.models.segmentation as models\n",
    "\n",
    "os.environ[\"KMP_DUPLICATE_LIB_OK\"] = \"True\"\n",
    "sys.path.append(\"..\")\n",
    "\n",
    "from src.models.unet import UNet\n",
    "from src.lightning_models.unet_lightning_model import UNetLightningModel\n",
    "from src.datasets.sky_finder_cover_dataset import SkyFinderCoverModule\n",
    "from src.config import (\n",
    "    UNET_ACTIVE_CHECKPOINT_PATH,\n",
    "    UNET_MANUAL_CHECKPOINT_PATH,\n",
    "    DEVICE,\n",
    "    SEED,\n",
    ")"
   ]
  },
  {
   "cell_type": "code",
   "execution_count": null,
   "id": "638d7d5c",
   "metadata": {},
   "outputs": [],
   "source": [
    "# Get model\n",
    "model = UNet(pretrained=True).to(DEVICE)\n",
    "active_model = UNet(pretrained=True).to(DEVICE)\n",
    "lightning_model = UNetLightningModel.load_from_checkpoint(\n",
    "    UNET_MANUAL_CHECKPOINT_PATH,\n",
    "    model=model,\n",
    "    learning_rate=0,\n",
    "    weight_decay=0,\n",
    "    name=\"unet\",\n",
    "    dataset=\"sky_finder_cover\",\n",
    ")\n",
    "lightning_active_model = UNetLightningModel.load_from_checkpoint(\n",
    "    UNET_ACTIVE_CHECKPOINT_PATH,\n",
    "    model=active_model,\n",
    "    learning_rate=0,\n",
    "    weight_decay=0,\n",
    "    name=\"unet\",\n",
    "    dataset=\"sky_finder_cover\",\n",
    ")\n",
    "model = lightning_model.model.to(DEVICE)\n",
    "model.eval()\n",
    "active_model = lightning_active_model.model.to(DEVICE)\n",
    "active_model.eval()\n",
    "None"
   ]
  },
  {
   "cell_type": "code",
   "execution_count": 4,
   "id": "31deb3d4",
   "metadata": {},
   "outputs": [
    {
     "name": "stdout",
     "output_type": "stream",
     "text": [
      "🌱 Setting the seed to 0 for generating dataloaders.\n",
      "🌱 Setting the seed to 0 for generating dataloaders.\n"
     ]
    }
   ],
   "source": [
    "module = SkyFinderCoverModule(\n",
    "    batch_size=1,\n",
    "    n_workers=1,\n",
    "    with_pseudo_labelling=False,\n",
    "    seed=SEED\n",
    ")\n",
    "module.setup(stage=\"fit\")\n",
    "module.setup(stage=\"test\")\n",
    "train_dataloader = module.train_dataloader()\n",
    "val_dataloader = module.val_dataloader()"
   ]
  },
  {
   "cell_type": "code",
   "execution_count": 5,
   "id": "58780442",
   "metadata": {},
   "outputs": [],
   "source": [
    "def unnormalize(\n",
    "        image,\n",
    "        mean=(0.485, 0.456, 0.406),\n",
    "        std=(0.229, 0.224, 0.225),\n",
    "    ):\n",
    "    image = image.copy()\n",
    "    image = image * std + mean\n",
    "    image = image.clip(0, 1)\n",
    "    return image"
   ]
  },
  {
   "cell_type": "code",
   "execution_count": 6,
   "id": "276f2a0b",
   "metadata": {},
   "outputs": [],
   "source": [
    "it = iter(val_dataloader)"
   ]
  },
  {
   "cell_type": "code",
   "execution_count": 65,
   "id": "b3395ca0",
   "metadata": {},
   "outputs": [
    {
     "ename": "StopIteration",
     "evalue": "",
     "output_type": "error",
     "traceback": [
      "\u001b[31m---------------------------------------------------------------------------\u001b[39m",
      "\u001b[31mStopIteration\u001b[39m                             Traceback (most recent call last)",
      "\u001b[36mCell\u001b[39m\u001b[36m \u001b[39m\u001b[32mIn[65]\u001b[39m\u001b[32m, line 1\u001b[39m\n\u001b[32m----> \u001b[39m\u001b[32m1\u001b[39m batch = \u001b[38;5;28;43mnext\u001b[39;49m\u001b[43m(\u001b[49m\u001b[43mit\u001b[49m\u001b[43m)\u001b[49m\n\u001b[32m      2\u001b[39m image = batch[\u001b[32m0\u001b[39m][\u001b[32m0\u001b[39m]\n\u001b[32m      3\u001b[39m ground_truth = batch[\u001b[32m1\u001b[39m][\u001b[32m0\u001b[39m]\n",
      "\u001b[31mStopIteration\u001b[39m: "
     ]
    }
   ],
   "source": [
    "batch = next(it)\n",
    "image = batch[0][0]\n",
    "ground_truth = batch[1][0]\n",
    "\n",
    "with torch.no_grad():\n",
    "    prediction = model(image.unsqueeze(0).to(DEVICE))\n",
    "    prediction = prediction[0, 0, :, :].cpu()\n",
    "    prediction = torch.sigmoid(prediction)\n",
    "\n",
    "    active_prediction = active_model(image.unsqueeze(0).to(DEVICE))\n",
    "    active_prediction = active_prediction[0, 0, :, :].cpu()\n",
    "    active_prediction = torch.sigmoid(active_prediction)\n",
    "\n",
    "    diff = torch.abs(prediction - active_prediction)\n",
    "\n",
    "\n",
    "plt.figure(figsize=(20, 5))\n",
    "plt.subplot(1, 5, 1)\n",
    "plt.title(\"Image\")\n",
    "plt.imshow(unnormalize(image.numpy().transpose(1, 2, 0)))\n",
    "plt.axis(\"off\")\n",
    "plt.subplot(1, 5, 2)\n",
    "plt.title(\"Cloud Ground Truth\")\n",
    "plt.imshow(ground_truth.numpy().transpose(1, 2, 0), vmin=0, vmax=1, cmap=\"bwr\")\n",
    "plt.axis(\"off\")\n",
    "plt.subplot(1, 5, 3)\n",
    "plt.title(f\"Cloud Prediction [{prediction.min():.2f}, {prediction.max():.2f}]\")\n",
    "plt.imshow(prediction.numpy(), vmin=0, vmax=1, cmap=\"bwr\")\n",
    "plt.axis(\"off\")\n",
    "plt.subplot(1, 5, 4)\n",
    "plt.title(f\"Active Cloud Prediction [{active_prediction.min():.2f}, {active_prediction.max():.2f}]\")\n",
    "plt.imshow(active_prediction.numpy(), vmin=0, vmax=1, cmap=\"bwr\")\n",
    "plt.axis(\"off\")\n",
    "plt.subplot(1, 5, 5)\n",
    "plt.title(f\"Difference [{diff.min():.2f}, {diff.max():.2f}]\")\n",
    "plt.imshow(diff.numpy(), vmin=0, vmax=1, cmap=\"bwr\")\n",
    "plt.axis(\"off\")\n",
    "plt.suptitle(\"UNet Predictions\")\n",
    "plt.tight_layout()\n",
    "plt.show()"
   ]
  },
  {
   "cell_type": "code",
   "execution_count": null,
   "id": "d6e6267a",
   "metadata": {},
   "outputs": [],
   "source": []
  }
 ],
 "metadata": {
  "kernelspec": {
   "display_name": ".conda",
   "language": "python",
   "name": "python3"
  },
  "language_info": {
   "codemirror_mode": {
    "name": "ipython",
    "version": 3
   },
   "file_extension": ".py",
   "mimetype": "text/x-python",
   "name": "python",
   "nbconvert_exporter": "python",
   "pygments_lexer": "ipython3",
   "version": "3.11.11"
  }
 },
 "nbformat": 4,
 "nbformat_minor": 5
}
