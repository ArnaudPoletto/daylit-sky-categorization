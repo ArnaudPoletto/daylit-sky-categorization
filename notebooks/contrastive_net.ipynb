{
 "cells": [
  {
   "cell_type": "code",
   "execution_count": 5,
   "id": "c6f3c7d3",
   "metadata": {},
   "outputs": [
    {
     "name": "stdout",
     "output_type": "stream",
     "text": [
      "The autoreload extension is already loaded. To reload it, use:\n",
      "  %reload_ext autoreload\n"
     ]
    }
   ],
   "source": [
    "%load_ext autoreload\n",
    "%autoreload 2"
   ]
  },
  {
   "cell_type": "code",
   "execution_count": 10,
   "id": "49be7b63",
   "metadata": {},
   "outputs": [],
   "source": [
    "import sys\n",
    "sys.path.append(\"..\")\n",
    "\n",
    "import torch\n",
    "from src.models.contrastive_net import ContrastiveNet\n",
    "\n",
    "from src.config import PATCH_WIDTH, PATCH_HEIGHT, DEVICE"
   ]
  },
  {
   "cell_type": "code",
   "execution_count": 16,
   "id": "ebe9f9bf",
   "metadata": {},
   "outputs": [],
   "source": [
    "model = ContrastiveNet(\n",
    "    projection_dim=256,\n",
    "    pretrained=True,\n",
    ").to(DEVICE)"
   ]
  },
  {
   "cell_type": "code",
   "execution_count": 17,
   "id": "e7c6f20d",
   "metadata": {},
   "outputs": [
    {
     "name": "stdout",
     "output_type": "stream",
     "text": [
      "torch.Size([2, 256])\n"
     ]
    }
   ],
   "source": [
    "# get random image\n",
    "image = torch.randn(2, 3, PATCH_HEIGHT, PATCH_WIDTH).to(DEVICE)\n",
    "output = model(image)\n",
    "print(output.shape)  # should be (1, 256)"
   ]
  }
 ],
 "metadata": {
  "kernelspec": {
   "display_name": ".conda",
   "language": "python",
   "name": "python3"
  },
  "language_info": {
   "codemirror_mode": {
    "name": "ipython",
    "version": 3
   },
   "file_extension": ".py",
   "mimetype": "text/x-python",
   "name": "python",
   "nbconvert_exporter": "python",
   "pygments_lexer": "ipython3",
   "version": "3.11.11"
  }
 },
 "nbformat": 4,
 "nbformat_minor": 5
}
