{
 "cells": [
  {
   "cell_type": "code",
   "execution_count": 3,
   "id": "f3a09cd0",
   "metadata": {},
   "outputs": [
    {
     "name": "stdout",
     "output_type": "stream",
     "text": [
      "The autoreload extension is already loaded. To reload it, use:\n",
      "  %reload_ext autoreload\n"
     ]
    }
   ],
   "source": [
    "%load_ext autoreload\n",
    "%autoreload 2"
   ]
  },
  {
   "cell_type": "code",
   "execution_count": 4,
   "id": "10ee90d2",
   "metadata": {},
   "outputs": [],
   "source": [
    "import sys\n",
    "sys.path.append(\"..\")\n",
    "\n",
    "import os\n",
    "import random\n",
    "import matplotlib.pyplot as plt\n",
    "\n",
    "os.environ[\"KMP_DUPLICATE_LIB_OK\"] = \"True\"\n",
    "\n",
    "from src.datasets.sky_finder_dataset import ContrastivePairsDataset, get_dataloaders"
   ]
  },
  {
   "cell_type": "code",
   "execution_count": 5,
   "id": "24c9e927",
   "metadata": {},
   "outputs": [
    {
     "name": "stdout",
     "output_type": "stream",
     "text": [
      "✅ Created weighted dataset with 15750 total images.\n",
      "🟢 Class distribution:\n",
      "🟢 \t- clear: 4627 images.\n",
      "🟢 \t- partial: 4866 images.\n",
      "🟢 \t- overcast: 6257 images.\n",
      "🟢 Balanced epoch size: 5400 samples.\n",
      "✅ Found 18 masks for 18 camera IDs.\n",
      "✅ Found bounding boxes for 18 camera IDs.\n",
      "✅ Created weighted dataset with 1945 total images.\n",
      "🟢 Class distribution:\n",
      "🟢 \t- clear: 572 images.\n",
      "🟢 \t- partial: 600 images.\n",
      "🟢 \t- overcast: 773 images.\n",
      "🟢 Balanced epoch size: 540 samples.\n",
      "✅ Found 18 masks for 18 camera IDs.\n",
      "✅ Found bounding boxes for 18 camera IDs.\n",
      "✅ Created weighted dataset with 2015 total images.\n",
      "🟢 Class distribution:\n",
      "🟢 \t- clear: 592 images.\n",
      "🟢 \t- partial: 624 images.\n",
      "🟢 \t- overcast: 799 images.\n",
      "🟢 Balanced epoch size: 540 samples.\n",
      "✅ Found 18 masks for 18 camera IDs.\n",
      "✅ Found bounding boxes for 18 camera IDs.\n",
      "✅ Created DataLoaders with batch size 1 and 0 workers.\n",
      "🟢 Train dataset size: 5400.\n",
      "🟢 Validation dataset size: 540.\n",
      "🟢 Test dataset size: 540.\n"
     ]
    }
   ],
   "source": [
    "train_dataloader, val_dataloader, test_dataloader = get_dataloaders(\n",
    "    batch_size=1,\n",
    "    num_workers=0,\n",
    "    epoch_multipliers=(100, 10, 10),\n",
    "    splits=(0.8, 0.1, 0.1),\n",
    ")"
   ]
  },
  {
   "cell_type": "code",
   "execution_count": 9,
   "id": "c53e6fb5",
   "metadata": {},
   "outputs": [],
   "source": [
    "it = iter(test_dataloader)"
   ]
  },
  {
   "cell_type": "code",
   "execution_count": 15,
   "id": "84787586",
   "metadata": {},
   "outputs": [
    {
     "name": "stdout",
     "output_type": "stream",
     "text": [
      "torch.Size([1, 3, 2, 3, 360, 640])\n"
     ]
    }
   ],
   "source": [
    "def unnormalize(\n",
    "        image,\n",
    "        mean=(0.485, 0.456, 0.406),\n",
    "        std=(0.229, 0.224, 0.225),\n",
    "    ):\n",
    "    image = image.copy()\n",
    "    image = image * std + mean\n",
    "    image = image.clip(0, 1)\n",
    "    return image\n",
    "\n",
    "batch = next(it)\n",
    "print(batch.shape)"
   ]
  }
 ],
 "metadata": {
  "kernelspec": {
   "display_name": ".conda",
   "language": "python",
   "name": "python3"
  },
  "language_info": {
   "codemirror_mode": {
    "name": "ipython",
    "version": 3
   },
   "file_extension": ".py",
   "mimetype": "text/x-python",
   "name": "python",
   "nbconvert_exporter": "python",
   "pygments_lexer": "ipython3",
   "version": "3.11.11"
  }
 },
 "nbformat": 4,
 "nbformat_minor": 5
}
